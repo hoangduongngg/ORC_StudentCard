{
 "cells": [
  {
   "cell_type": "markdown",
   "metadata": {},
   "source": [
    "## 0. Install and Import Dependencies"
   ]
  },
  {
   "cell_type": "code",
   "execution_count": 1,
   "metadata": {},
   "outputs": [
    {
     "name": "stderr",
     "output_type": "stream",
     "text": [
      "c:\\Users\\TGDD\\AppData\\Local\\Programs\\Python\\Python310\\lib\\site-packages\\tqdm\\auto.py:22: TqdmWarning: IProgress not found. Please update jupyter and ipywidgets. See https://ipywidgets.readthedocs.io/en/stable/user_install.html\n",
      "  from .autonotebook import tqdm as notebook_tqdm\n"
     ]
    }
   ],
   "source": [
    "import easyocr\n",
    "import cv2\n",
    "from matplotlib import pyplot as plt\n",
    "import numpy as np"
   ]
  },
  {
   "cell_type": "markdown",
   "metadata": {},
   "source": [
    "## 1. Read in images or video"
   ]
  },
  {
   "cell_type": "markdown",
   "metadata": {},
   "source": [
    "1.1 - Test Simple Text"
   ]
  },
  {
   "cell_type": "code",
   "execution_count": 2,
   "metadata": {},
   "outputs": [],
   "source": [
    "# IMAGE_PATH = 'sign.png'\n",
    "IMAGE_PATH = 'surf.jpeg'"
   ]
  },
  {
   "cell_type": "code",
   "execution_count": 3,
   "metadata": {},
   "outputs": [
    {
     "name": "stderr",
     "output_type": "stream",
     "text": [
      "CUDA not available - defaulting to CPU. Note: This module is much faster with a GPU.\n"
     ]
    },
    {
     "data": {
      "text/plain": [
       "[([[18, 18], [293, 18], [293, 145], [18, 145]], 'SURF', 0.9862082004547119)]"
      ]
     },
     "execution_count": 3,
     "metadata": {},
     "output_type": "execute_result"
    }
   ],
   "source": [
    "reader = easyocr.Reader(['en'])\n",
    "result = reader.readtext(IMAGE_PATH)\n",
    "result"
   ]
  },
  {
   "cell_type": "markdown",
   "metadata": {},
   "source": [
    "1.2 - Test Card Student"
   ]
  },
  {
   "cell_type": "code",
   "execution_count": 4,
   "metadata": {},
   "outputs": [
    {
     "name": "stderr",
     "output_type": "stream",
     "text": [
      "CUDA not available - defaulting to CPU. Note: This module is much faster with a GPU.\n"
     ]
    }
   ],
   "source": [
    "# Read Content from PTIT Card\n",
    "reader = easyocr.Reader(['vi'])\n",
    "IMAGE_PATH = \"studentCard.jpg\"\n",
    "result = reader.readtext(IMAGE_PATH)"
   ]
  },
  {
   "cell_type": "code",
   "execution_count": 5,
   "metadata": {},
   "outputs": [
    {
     "name": "stdout",
     "output_type": "stream",
     "text": [
      "[[1300, 219], [1964, 219], [1964, 400], [1300, 400]]\n",
      "HỌC VIỆN\n",
      "0.9224944939475592\n",
      "[[829, 371], [2430, 371], [2430, 518], [829, 518]]\n",
      "CÔNG NGHỆ BUU CHÍNH VIÉN THÔNG\n",
      "0.7091452203934928\n",
      "[[309, 385], [647, 385], [647, 617], [309, 617]]\n",
      "@\n",
      "0.684005048263149\n",
      "[[1105, 568], [2164, 568], [2164, 763], [1105, 763]]\n",
      "THẺ SINH VIÊN\n",
      "0.9909010353045314\n",
      "[[852, 850], [1270, 850], [1270, 955], [852, 955]]\n",
      "Họ và tên:\n",
      "0.6712307257324667\n",
      "[[1312, 821], [2295, 821], [2295, 967], [1312, 967]]\n",
      "Nguyễn Hoàng Dương\n",
      "0.7706882515668977\n",
      "[[853, 971], [1289, 971], [1289, 1081], [853, 1081]]\n",
      "Sinh ngày:\n",
      "0.9976713325751027\n",
      "[[1319, 953], [1780, 953], [1780, 1062], [1319, 1062]]\n",
      "21/02/2001\n",
      "0.999914990517229\n",
      "[[856, 1075], [1726, 1075], [1726, 1204], [856, 1204]]\n",
      "Hộ khẩu TT: Béc Ninh\n",
      "0.6989632401337255\n",
      "[[858, 1203], [1637, 1203], [1637, 1328], [858, 1328]]\n",
      "Lớp: DI9COCNO9-B\n",
      "0.5835098328828344\n",
      "[[1745, 1197], [2468, 1197], [2468, 1312], [1745, 1312]]\n",
      "Hệ: Đaihoc chinhquy\n",
      "0.4853644082754635\n",
      "[[857, 1328], [1409, 1328], [1409, 1457], [857, 1457]]\n",
      "Ngành: CNTT\n",
      "0.8106777682428457\n",
      "[[1745, 1310], [2474, 1310], [2474, 1421], [1745, 1421]]\n",
      "Khóa: 2019 - 2024\n",
      "0.9004820801686512\n",
      "[[377, 1497], [617, 1497], [617, 1581], [377, 1581]]\n",
      "Mã SV\n",
      "0.9976526095642094\n",
      "[[217, 1586], [804, 1586], [804, 1699], [217, 1699]]\n",
      "Bi9DCCN153\n",
      "0.4437347118619652\n"
     ]
    }
   ],
   "source": [
    "# Tọa độ, Nội dung, Xác suất\n",
    "for line in result:\n",
    "    for item in line:\n",
    "        print(item)"
   ]
  },
  {
   "cell_type": "code",
   "execution_count": 6,
   "metadata": {},
   "outputs": [
    {
     "name": "stdout",
     "output_type": "stream",
     "text": [
      "HỌC VIỆN\n",
      "CÔNG NGHỆ BUU CHÍNH VIÉN THÔNG\n",
      "@\n",
      "THẺ SINH VIÊN\n",
      "Họ và tên:\n",
      "Nguyễn Hoàng Dương\n",
      "Sinh ngày:\n",
      "21/02/2001\n",
      "Hộ khẩu TT: Béc Ninh\n",
      "Lớp: DI9COCNO9-B\n",
      "Hệ: Đaihoc chinhquy\n",
      "Ngành: CNTT\n",
      "Khóa: 2019 - 2024\n",
      "Mã SV\n",
      "Bi9DCCN153\n"
     ]
    }
   ],
   "source": [
    "# Print content \n",
    "for line in result:\n",
    "        print(line[1])"
   ]
  },
  {
   "cell_type": "markdown",
   "metadata": {},
   "source": [
    "1.3 - Try with small image"
   ]
  },
  {
   "cell_type": "code",
   "execution_count": 32,
   "metadata": {},
   "outputs": [
    {
     "name": "stderr",
     "output_type": "stream",
     "text": [
      "CUDA not available - defaulting to CPU. Note: This module is much faster with a GPU.\n"
     ]
    }
   ],
   "source": [
    "#Try diff example\n",
    "reader = easyocr.Reader(['vi'])\n",
    "result = reader.readtext('studentCard_small.jpg')"
   ]
  },
  {
   "cell_type": "code",
   "execution_count": 33,
   "metadata": {},
   "outputs": [
    {
     "name": "stdout",
     "output_type": "stream",
     "text": [
      "[[1672, 1028], [1930, 1028], [1930, 1100], [1672, 1100]]\n",
      "HỌC VIỆN\n",
      "0.7871292389563818\n",
      "[[1490, 1086], [2112, 1086], [2112, 1142], [1490, 1142]]\n",
      "CONG NGHỆ BUU CHÍNH VIÉN THONG\n",
      "0.5372675147165974\n",
      "[[1594, 1158], [2006, 1158], [2006, 1234], [1594, 1234]]\n",
      "THẺ SINH VIÊN\n",
      "0.9898893919848474\n",
      "[[1495, 1263], [1659, 1263], [1659, 1305], [1495, 1305]]\n",
      "Ho và ten:\n",
      "0.5359645515216336\n",
      "[[1674, 1256], [2057, 1256], [2057, 1308], [1674, 1308]]\n",
      "Nguyen Hoang Dưong\n",
      "0.5031217068570265\n",
      "[[1494, 1304], [1856, 1304], [1856, 1356], [1494, 1356]]\n",
      "Sinh ngày:   21/02/2001\n",
      "0.6687028220519999\n",
      "[[1494, 1352], [1836, 1352], [1836, 1402], [1494, 1402]]\n",
      "Hộ khấu TT: Bic Ninh\n",
      "0.38140816740253897\n",
      "[[1495, 1407], [1799, 1407], [1799, 1449], [1495, 1449]]\n",
      "Lop: D19CQCNo9-8\n",
      "0.15486951388478537\n",
      "[[1840, 1402], [2131, 1402], [2131, 1451], [1840, 1451]]\n",
      "Hệ: Đalhocchmhqy\n",
      "0.4588867025403483\n",
      "[[1496, 1450], [1710, 1450], [1710, 1500], [1496, 1500]]\n",
      "Ngành: CNTT\n",
      "0.9531475982241049\n",
      "[[1843, 1451], [2023, 1451], [2023, 1491], [1843, 1491]]\n",
      "Khóa: 2019\n",
      "0.6210930679586167\n",
      "[[2041, 1451], [2133, 1451], [2133, 1491], [2041, 1491]]\n",
      "2024\n",
      "0.9929637778951411\n",
      "[[1308, 1514], [1402, 1514], [1402, 1546], [1308, 1546]]\n",
      "Ma SV\n",
      "0.8803884323955677\n",
      "[[1243, 1547], [1473, 1547], [1473, 1591], [1243, 1591]]\n",
      "Bi9dccn1s}\n",
      "0.14015714080076613\n",
      "[[1311.823303189171, 1087.1165159458544], [1391.4887322830327, 1098.5764039269725], [1383.176696810829, 1148.8834840541456], [1303.5112677169673, 1137.4235960730275]]\n",
      "PV\n",
      "0.3284215812053466\n"
     ]
    }
   ],
   "source": [
    "# Tọa độ, Nội dung, Xác suất\n",
    "for line in result:\n",
    "    for item in line:\n",
    "        print(item)"
   ]
  },
  {
   "cell_type": "markdown",
   "metadata": {},
   "source": [
    "Comment: Với chất lượng ảnh thấp hơn & nhỏ hơn, độ chính xác giảm."
   ]
  }
 ],
 "metadata": {
  "kernelspec": {
   "display_name": "Python 3.10.7 64-bit",
   "language": "python",
   "name": "python3"
  },
  "language_info": {
   "codemirror_mode": {
    "name": "ipython",
    "version": 3
   },
   "file_extension": ".py",
   "mimetype": "text/x-python",
   "name": "python",
   "nbconvert_exporter": "python",
   "pygments_lexer": "ipython3",
   "version": "3.10.7"
  },
  "vscode": {
   "interpreter": {
    "hash": "0a41dfaff145a21bbb3d5d5820cf030fb978bbdacefd5c927a5926869d710782"
   }
  }
 },
 "nbformat": 4,
 "nbformat_minor": 2
}

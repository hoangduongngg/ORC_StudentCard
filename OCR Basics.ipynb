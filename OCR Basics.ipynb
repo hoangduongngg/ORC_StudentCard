{
 "cells": [
  {
   "cell_type": "markdown",
   "metadata": {},
   "source": [
    "## 0. Install and Import Dependencies"
   ]
  },
  {
   "cell_type": "code",
   "execution_count": 1,
   "metadata": {},
   "outputs": [
    {
     "name": "stderr",
     "output_type": "stream",
     "text": [
      "c:\\Users\\TGDD\\AppData\\Local\\Programs\\Python\\Python310\\lib\\site-packages\\tqdm\\auto.py:22: TqdmWarning: IProgress not found. Please update jupyter and ipywidgets. See https://ipywidgets.readthedocs.io/en/stable/user_install.html\n",
      "  from .autonotebook import tqdm as notebook_tqdm\n"
     ]
    }
   ],
   "source": [
    "import easyocr\n",
    "import cv2\n",
    "from matplotlib import pyplot as plt\n",
    "import numpy as np"
   ]
  },
  {
   "cell_type": "markdown",
   "metadata": {},
   "source": [
    "## 1. Read in images or video"
   ]
  },
  {
   "cell_type": "markdown",
   "metadata": {},
   "source": [
    "1.1 - Test Card Student"
   ]
  },
  {
   "cell_type": "code",
   "execution_count": 2,
   "metadata": {},
   "outputs": [
    {
     "name": "stderr",
     "output_type": "stream",
     "text": [
      "CUDA not available - defaulting to CPU. Note: This module is much faster with a GPU.\n"
     ]
    }
   ],
   "source": [
    "# Read Content from PTIT Card\n",
    "reader = easyocr.Reader(['vi'])\n",
    "IMAGE_PATH = \"hog_result.png\"\n",
    "result = reader.readtext(IMAGE_PATH)"
   ]
  },
  {
   "cell_type": "code",
   "execution_count": 10,
   "metadata": {},
   "outputs": [
    {
     "name": "stdout",
     "output_type": "stream",
     "text": [
      "[[1300, 219], [1964, 219], [1964, 400], [1300, 400]]\n",
      "HỌC VIỆN\n",
      "0.9224944939475592\n",
      "[[829, 371], [2430, 371], [2430, 518], [829, 518]]\n",
      "CÔNG NGHỆ BUU CHÍNH VIÉN THÔNG\n",
      "0.7091452203934928\n",
      "[[309, 385], [647, 385], [647, 617], [309, 617]]\n",
      "@\n",
      "0.684005048263149\n",
      "[[1105, 568], [2164, 568], [2164, 763], [1105, 763]]\n",
      "THẺ SINH VIÊN\n",
      "0.9909010353045314\n",
      "[[852, 850], [1270, 850], [1270, 955], [852, 955]]\n",
      "Họ và tên:\n",
      "0.6712307257324667\n",
      "[[1312, 821], [2295, 821], [2295, 967], [1312, 967]]\n",
      "Nguyễn Hoàng Dương\n",
      "0.7706882515668977\n",
      "[[853, 971], [1289, 971], [1289, 1081], [853, 1081]]\n",
      "Sinh ngày:\n",
      "0.9976713325751027\n",
      "[[1319, 953], [1780, 953], [1780, 1062], [1319, 1062]]\n",
      "21/02/2001\n",
      "0.999914990517229\n",
      "[[856, 1075], [1726, 1075], [1726, 1204], [856, 1204]]\n",
      "Hộ khẩu TT: Béc Ninh\n",
      "0.6989632401337255\n",
      "[[858, 1203], [1637, 1203], [1637, 1328], [858, 1328]]\n",
      "Lớp: DI9COCNO9-B\n",
      "0.5835098328828344\n",
      "[[1745, 1197], [2468, 1197], [2468, 1312], [1745, 1312]]\n",
      "Hệ: Đaihoc chinhquy\n",
      "0.4853644082754635\n",
      "[[857, 1328], [1409, 1328], [1409, 1457], [857, 1457]]\n",
      "Ngành: CNTT\n",
      "0.8106777682428457\n",
      "[[1745, 1310], [2474, 1310], [2474, 1421], [1745, 1421]]\n",
      "Khóa: 2019 - 2024\n",
      "0.9004820801686512\n",
      "[[377, 1497], [617, 1497], [617, 1581], [377, 1581]]\n",
      "Mã SV\n",
      "0.9976526095642094\n",
      "[[217, 1586], [804, 1586], [804, 1699], [217, 1699]]\n",
      "Bi9DCCN153\n",
      "0.4437347118619652\n"
     ]
    }
   ],
   "source": [
    "# Tọa độ, Nội dung, Xác suất\n",
    "for line in result:\n",
    "    for item in line:\n",
    "        print(item)"
   ]
  },
  {
   "cell_type": "code",
   "execution_count": 1,
   "metadata": {},
   "outputs": [
    {
     "ename": "NameError",
     "evalue": "name 'result' is not defined",
     "output_type": "error",
     "traceback": [
      "\u001b[1;31m---------------------------------------------------------------------------\u001b[0m",
      "\u001b[1;31mNameError\u001b[0m                                 Traceback (most recent call last)",
      "Cell \u001b[1;32mIn [1], line 9\u001b[0m\n\u001b[0;32m      6\u001b[0m write \u001b[39m=\u001b[39m csv\u001b[39m.\u001b[39mwriter(file)\n\u001b[0;32m      7\u001b[0m \u001b[39m# for line in result:\u001b[39;00m\n\u001b[0;32m      8\u001b[0m \u001b[39m#     write.writerow(list(line))\u001b[39;00m\n\u001b[1;32m----> 9\u001b[0m write\u001b[39m.\u001b[39mwriterows(result)\n",
      "\u001b[1;31mNameError\u001b[0m: name 'result' is not defined"
     ]
    }
   ],
   "source": [
    "import csv\n",
    "# opening the csv file in 'a+' mode\n",
    "file = open('results.csv', 'a+', newline ='')\n",
    "\n",
    "with file:\n",
    "    write = csv.writer(file)\n",
    "    # for line in result:\n",
    "    #     write.writerow(list(line))\n",
    "    write.writerows(result)"
   ]
  },
  {
   "cell_type": "code",
   "execution_count": 9,
   "metadata": {},
   "outputs": [
    {
     "name": "stdout",
     "output_type": "stream",
     "text": [
      "HỌC VIỆN\n",
      "CÔNG NGHỆ BUU CHÍNH VIÉN THÔNG\n",
      "@\n",
      "THẺ SINH VIÊN\n",
      "Họ và tên:\n",
      "Nguyễn Hoàng Dương\n",
      "Sinh ngày:\n",
      "21/02/2001\n",
      "Hộ khẩu TT: Béc Ninh\n",
      "Lớp: DI9COCNO9-B\n",
      "Hệ: Đaihoc chinhquy\n",
      "Ngành: CNTT\n",
      "Khóa: 2019 - 2024\n",
      "Mã SV\n",
      "Bi9DCCN153\n"
     ]
    }
   ],
   "source": [
    "# Print content \n",
    "for line in result:\n",
    "        print(line[1])"
   ]
  },
  {
   "cell_type": "markdown",
   "metadata": {},
   "source": [
    "1.2 - Try with small image"
   ]
  },
  {
   "cell_type": "code",
   "execution_count": 7,
   "metadata": {},
   "outputs": [],
   "source": [
    "#Try diff example\n",
    "IMAGE_PATH_SMALL = \"assets/img/studentCard_small.jpg\"\n",
    "result_small = reader.readtext(IMAGE_PATH_SMALL)"
   ]
  },
  {
   "cell_type": "code",
   "execution_count": 8,
   "metadata": {},
   "outputs": [
    {
     "name": "stdout",
     "output_type": "stream",
     "text": [
      "[[1203, 1086], [1498, 1086], [1498, 1165], [1203, 1165]]\n",
      "HQC VIỆN\n",
      "0.590854944314224\n",
      "[[878, 1160], [910, 1160], [910, 1200], [878, 1200]]\n",
      "1\n",
      "0.6551346673970784\n",
      "[[996, 1156], [1706, 1156], [1706, 1213], [996, 1213]]\n",
      "CONG NGHỆ BUU CHÍNH VIÉN THONG\n",
      "0.4948037341154508\n",
      "[[1113, 1233], [1584, 1233], [1584, 1320], [1113, 1320]]\n",
      "THẺ SINH VIÊN\n",
      "0.9912536957211014\n",
      "[[996, 1352], [1184, 1352], [1184, 1400], [996, 1400]]\n",
      "Ho và ten:\n",
      "0.6727752156500987\n",
      "[[1199, 1345], [1644, 1345], [1644, 1413], [1199, 1413]]\n",
      "Nguyen Hoang Dưong\n",
      "0.3194232091219707\n",
      "[[994, 1405], [1409, 1405], [1409, 1460], [994, 1460]]\n",
      "Sinh ngày:   21/02/2001\n",
      "0.4516163493575577\n",
      "[[994, 1458], [1384, 1458], [1384, 1510], [994, 1510]]\n",
      "Hộ khâu TT: Bfc Ninh\n",
      "0.3217322670032198\n",
      "[[992, 1518], [1342, 1518], [1342, 1570], [992, 1570]]\n",
      "Lớp: Di9COCNOO-0\n",
      "0.18995444899011643\n",
      "[[1387, 1519], [1725, 1519], [1725, 1582], [1387, 1582]]\n",
      "He: Dalhoc chinhqu\n",
      "0.46413045177884654\n",
      "[[992, 1572], [1237, 1572], [1237, 1626], [992, 1626]]\n",
      "Ngành: CNTT\n",
      "0.9067503661065791\n",
      "[[1388, 1578], [1600, 1578], [1600, 1626], [1388, 1626]]\n",
      "Khóa: 2019\n",
      "0.8850562600340631\n",
      "[[1599, 1597], [1621, 1597], [1621, 1617], [1599, 1617]]\n",
      "0\n",
      "0.10762883950619884\n",
      "[[1620, 1580], [1726, 1580], [1726, 1628], [1620, 1628]]\n",
      "2024\n",
      "0.9996328353881836\n",
      "[[773, 1637], [883, 1637], [883, 1677], [773, 1677]]\n",
      "Ma SV\n",
      "0.43029368749832747\n",
      "[[698, 1677], [1031, 1677], [1031, 1737], [698, 1737]]\n",
      "B19DCCN1S3|l\n",
      "0.09181653767586599\n",
      "[[794.8492070888625, 1143.095242533175], [887.3557156915032, 1156.0665927577677], [877.1507929111375, 1216.904757466825], [783.6442843084968, 1203.9334072422323]]\n",
      "PY\n",
      "0.6217101838214216\n"
     ]
    }
   ],
   "source": [
    "# Tọa độ, Nội dung, Xác suất\n",
    "for line in result_small:\n",
    "    for item in line:\n",
    "        print(item)"
   ]
  },
  {
   "cell_type": "markdown",
   "metadata": {},
   "source": [
    "Comment: Với chất lượng ảnh thấp hơn & nhỏ hơn, độ chính xác giảm."
   ]
  }
 ],
 "metadata": {
  "kernelspec": {
   "display_name": "Python 3.10.7 64-bit",
   "language": "python",
   "name": "python3"
  },
  "language_info": {
   "codemirror_mode": {
    "name": "ipython",
    "version": 3
   },
   "file_extension": ".py",
   "mimetype": "text/x-python",
   "name": "python",
   "nbconvert_exporter": "python",
   "pygments_lexer": "ipython3",
   "version": "3.10.7"
  },
  "vscode": {
   "interpreter": {
    "hash": "0a41dfaff145a21bbb3d5d5820cf030fb978bbdacefd5c927a5926869d710782"
   }
  }
 },
 "nbformat": 4,
 "nbformat_minor": 2
}

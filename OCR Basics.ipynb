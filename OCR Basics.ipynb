{
 "cells": [
  {
   "cell_type": "markdown",
   "metadata": {},
   "source": [
    "## 1. Install and Import Dependencies"
   ]
  },
  {
   "cell_type": "code",
   "execution_count": 2,
   "metadata": {},
   "outputs": [],
   "source": [
    "import easyocr\n",
    "import cv2\n",
    "from matplotlib import pyplot as plt\n",
    "import numpy as np"
   ]
  },
  {
   "cell_type": "markdown",
   "metadata": {},
   "source": [
    "Với ảnh trính diện, chưa qua tiền xử lý, cho độ chính xác tương đối ổn, ở mức trung bình khoảng 0.8"
   ]
  },
  {
   "cell_type": "markdown",
   "metadata": {},
   "source": [
    "Nhận xét: Với chất lượng ảnh thấp hơn & nhỏ hơn, độ chính xác giảm.\n",
    "Độ chính xác trung bình khoảng 0.5"
   ]
  },
  {
   "cell_type": "markdown",
   "metadata": {},
   "source": [
    "# 2. Image Processing"
   ]
  },
  {
   "cell_type": "markdown",
   "metadata": {},
   "source": [
    "### 2.1 - Sharpen Image - Làm nét ảnh"
   ]
  },
  {
   "cell_type": "code",
   "execution_count": 162,
   "metadata": {},
   "outputs": [
    {
     "data": {
      "text/plain": [
       "True"
      ]
     },
     "execution_count": 162,
     "metadata": {},
     "output_type": "execute_result"
    }
   ],
   "source": [
    "img1 = cv2.imread('assets/img/studentCard2.jpg', 1)\n",
    "kernel = np.array([[-1, -1, -1], [-1, 9, -1], [-1, -1, -1]]) #bo loc\n",
    "sharpening = cv2.filter2D(img1, -1, kernel)\n",
    "img_sharpened = 'result/img/sharpen.jpg'\n",
    "cv2.imwrite(img_sharpened, sharpening)"
   ]
  },
  {
   "cell_type": "markdown",
   "metadata": {},
   "source": [
    "Đầu ra là ảnh đã qua làm nét. Thử nghiệm đọc ảnh lần nữa xem độ chính xác có cao hơn không?"
   ]
  },
  {
   "cell_type": "code",
   "execution_count": 163,
   "metadata": {},
   "outputs": [
    {
     "name": "stdout",
     "output_type": "stream",
     "text": [
      "[[1075, 161], [1431, 161], [1431, 254], [1075, 254]]\n",
      "HỌC VIỆN\n",
      "0.9873857815359975\n",
      "[[540, 224], [701, 224], [701, 301], [540, 301]]\n",
      "PT T\n",
      "0.17683173716068268\n",
      "[[809, 240], [1676, 240], [1676, 321], [809, 321]]\n",
      "CÔNG NGHỆ BƯU CHÍNH VIỄN THÔNG\n",
      "0.8139856642957803\n",
      "[[964, 346], [1536, 346], [1536, 450], [964, 450]]\n",
      "THẺ SINH VIÊN\n",
      "0.9962807860686739\n",
      "[[888, 492], [1046, 492], [1046, 542], [888, 542]]\n",
      "và tên:\n",
      "0.9932797603146938\n",
      "[[1070, 489], [1634, 489], [1634, 563], [1070, 563]]\n",
      "Phạm Lưu Thùy Dương\n",
      "0.8833044241006212\n",
      "[[811, 557], [1329, 557], [1329, 625], [811, 625]]\n",
      "Sinh ngày:   24/02/2002\n",
      "0.5923611932370298\n",
      "[[810, 621], [1360, 621], [1360, 697], [810, 697]]\n",
      "Hộ khẩu TT: Quảng-Ninh\n",
      "0.7778768638094241\n",
      "[[811, 701], [1253, 701], [1253, 765], [811, 765]]\n",
      "Lớp: D2OCQTTO2-B\n",
      "0.7315248005639859\n",
      "[[1305, 701], [1699, 701], [1699, 765], [1305, 765]]\n",
      "Hệ: Đại học chính quy\n",
      "0.5746533457988922\n",
      "[[811, 771], [1291, 771], [1291, 835], [811, 835]]\n",
      "Ngành: TT Đa phưong tiện\n",
      "0.7139615830976881\n",
      "[[1304, 768], [1552, 768], [1552, 824], [1304, 824]]\n",
      "Khóa: 2020\n",
      "0.9555665926417998\n",
      "[[1578, 766], [1694, 766], [1694, 822], [1578, 822]]\n",
      "2024\n",
      "0.9999960660934448\n",
      "[[526, 856], [666, 856], [666, 904], [526, 904]]\n",
      "Mã SV\n",
      "0.9961857429699554\n",
      "[[430, 912], [773, 912], [773, 975], [430, 975]]\n",
      "B2ODCTTOO2\n",
      "0.604551947267169\n",
      "[[817.8233031891709, 486.1165159458545], [892.4390007699468, 497.4667667646823], [883.1766968108291, 547.8834840541455], [808.5609992300532, 536.5332332353177]]\n",
      "Họ\n",
      "0.9974567116454671\n"
     ]
    }
   ],
   "source": [
    "result_sharpen = reader.readtext(img_sharpened)\n",
    "for line in result_sharpen:\n",
    "    for item in line:\n",
    "        print(item)"
   ]
  },
  {
   "cell_type": "code",
   "execution_count": 164,
   "metadata": {},
   "outputs": [
    {
     "name": "stdout",
     "output_type": "stream",
     "text": [
      "HỌC VIỆN\n",
      "PT T\n",
      "CÔNG NGHỆ BƯU CHÍNH VIỄN THÔNG\n",
      "THẺ SINH VIÊN\n",
      "và tên:\n",
      "Phạm Lưu Thùy Dương\n",
      "Sinh ngày:   24/02/2002\n",
      "Hộ khẩu TT: Quảng-Ninh\n",
      "Lớp: D2OCQTTO2-B\n",
      "Hệ: Đại học chính quy\n",
      "Ngành: TT Đa phưong tiện\n",
      "Khóa: 2020\n",
      "2024\n",
      "Mã SV\n",
      "B2ODCTTOO2\n",
      "Họ\n"
     ]
    }
   ],
   "source": [
    "# Print content \n",
    "for line in result_sharpen:\n",
    "        print(line[1])"
   ]
  },
  {
   "cell_type": "markdown",
   "metadata": {},
   "source": [
    "### 2.2 - Khử nhiễu"
   ]
  },
  {
   "cell_type": "code",
   "execution_count": 156,
   "metadata": {},
   "outputs": [
    {
     "data": {
      "text/plain": [
       "True"
      ]
     },
     "execution_count": 156,
     "metadata": {},
     "output_type": "execute_result"
    }
   ],
   "source": [
    "img = cv2.imread(\"assets/img/studentCard2.jpg\")\n",
    "\n",
    "# convert to grayscale\n",
    "gray = cv2.cvtColor(img, cv2.COLOR_BGR2GRAY)\n",
    "\n",
    "# blur\n",
    "blur = cv2.GaussianBlur(gray, (0,0), sigmaX=100, sigmaY=100)\n",
    "\n",
    "# divide\n",
    "divide = cv2.divide(gray, blur, scale=255)\n",
    "\n",
    "# write result to disk\n",
    "img_noise_removed = \"result/img/imgnoise_removed.jpg\"\n",
    "cv2.imwrite(img_noise_removed, divide)"
   ]
  },
  {
   "cell_type": "code",
   "execution_count": 157,
   "metadata": {},
   "outputs": [
    {
     "name": "stdout",
     "output_type": "stream",
     "text": [
      "[[1076, 161], [1431, 161], [1431, 252], [1076, 252]]\n",
      "HỌC VIỆN\n",
      "0.9044679484963162\n",
      "[[650, 234], [698, 234], [698, 302], [650, 302]]\n",
      "T\n",
      "0.8808950023841966\n",
      "[[811, 242], [1676, 242], [1676, 321], [811, 321]]\n",
      "CÔNG NGHỆ BƯU CHÍNH VIỄN THÔNG\n",
      "0.8917811691843863\n",
      "[[964, 348], [1536, 348], [1536, 452], [964, 452]]\n",
      "THẺ SINH VIÊN\n",
      "0.9901647617118355\n",
      "[[888, 490], [1047, 490], [1047, 545], [888, 545]]\n",
      "và tên:\n",
      "0.9967400569704238\n",
      "[[1072, 491], [1630, 491], [1630, 560], [1072, 560]]\n",
      "Phạm Lưu Thùy Dương\n",
      "0.9594417442604424\n",
      "[[813, 561], [1057, 561], [1057, 625], [813, 625]]\n",
      "Sinh ngày:\n",
      "0.9723010855411919\n",
      "[[1074, 562], [1330, 562], [1330, 616], [1074, 616]]\n",
      "24/02/2002\n",
      "0.9999570835076536\n",
      "[[812, 624], [1360, 624], [1360, 697], [812, 697]]\n",
      "Hộ khẩu TT: Quảng Ninh\n",
      "0.6541410838597711\n",
      "[[811, 700], [1253, 700], [1253, 763], [811, 763]]\n",
      "Lớp: D2OCQTTO2-B\n",
      "0.8319895329011161\n",
      "[[1305, 703], [1697, 703], [1697, 765], [1305, 765]]\n",
      "Hệ: Đại học chính quy\n",
      "0.6743727101955513\n",
      "[[811, 773], [1291, 773], [1291, 835], [811, 835]]\n",
      "Ngành: TT Đa phương tiện\n",
      "0.9161792395384503\n",
      "[[1306, 770], [1552, 770], [1552, 824], [1306, 824]]\n",
      "Khóa: 2020\n",
      "0.6783057521854158\n",
      "[[1578, 770], [1692, 770], [1692, 820], [1578, 820]]\n",
      "2024\n",
      "0.9959249679200922\n",
      "[[527, 859], [665, 859], [665, 903], [527, 903]]\n",
      "Mã SV\n",
      "0.9279824921540011\n",
      "[[434, 916], [772, 916], [772, 972], [434, 972]]\n",
      "B2ODCTTOO2\n",
      "0.828995890575181\n",
      "[[544.8555211561317, 219.07306501782733], [664.1449453048738, 236.17117955753798], [650.1444788438683, 314.92693498217267], [530.8550546951262, 298.828820442462]]\n",
      "PY\n",
      "0.49225488603669865\n",
      "[[819.8875528448131, 486.10403007750915], [893.4673169838193, 499.5284731443009], [883.1124471551869, 550.8959699224908], [809.5326830161807, 537.4715268556992]]\n",
      "Họ\n",
      "0.9988827013642071\n"
     ]
    }
   ],
   "source": [
    "result_noise_removed = reader.readtext(img_noise_removed)\n",
    "for line in result_noise_removed:\n",
    "    for item in line:\n",
    "        print(item)"
   ]
  },
  {
   "cell_type": "code",
   "execution_count": 160,
   "metadata": {},
   "outputs": [
    {
     "name": "stdout",
     "output_type": "stream",
     "text": [
      "HỌC VIỆN\n",
      "T\n",
      "CÔNG NGHỆ BƯU CHÍNH VIỄN THÔNG\n",
      "THẺ SINH VIÊN\n",
      "và tên:\n",
      "Phạm Lưu Thùy Dương\n",
      "Sinh ngày:\n",
      "24/02/2002\n",
      "Hộ khẩu TT: Quảng Ninh\n",
      "Lớp: D2OCQTTO2-B\n",
      "Hệ: Đại học chính quy\n",
      "Ngành: TT Đa phương tiện\n",
      "Khóa: 2020\n",
      "2024\n",
      "Mã SV\n",
      "B2ODCTTOO2\n",
      "PY\n",
      "Họ\n"
     ]
    }
   ],
   "source": [
    "# Print content \n",
    "for line in result_noise_removed:\n",
    "        print(line[1])"
   ]
  },
  {
   "cell_type": "markdown",
   "metadata": {},
   "source": [
    "### 2.3 - Cân bằng sáng"
   ]
  },
  {
   "cell_type": "code",
   "execution_count": 158,
   "metadata": {},
   "outputs": [
    {
     "data": {
      "text/plain": [
       "True"
      ]
     },
     "execution_count": 158,
     "metadata": {},
     "output_type": "execute_result"
    }
   ],
   "source": [
    "img = cv2.imread(\"assets/img/studentCard2.jpg\")\n",
    "img_yuv = cv2.cvtColor(img, cv2.COLOR_BGR2YUV)\n",
    "img_yuv[:,:,0] = cv2.equalizeHist(img_yuv[:,:,0])\n",
    "img2 = cv2.cvtColor(img_yuv, cv2.COLOR_YUV2BGR)\n",
    "\n",
    "cv2.imwrite(\"result/img/hog_result.png\", img2)\n"
   ]
  },
  {
   "cell_type": "code",
   "execution_count": 159,
   "metadata": {},
   "outputs": [
    {
     "name": "stdout",
     "output_type": "stream",
     "text": [
      "[[1077, 159], [1431, 159], [1431, 251], [1077, 251]]\n",
      "HỌC VIỆN\n",
      "0.9901842207058247\n",
      "[[540, 224], [703, 224], [703, 300], [540, 300]]\n",
      "PVT\n",
      "0.13805990009600203\n",
      "[[812, 244], [1678, 244], [1678, 321], [812, 321]]\n",
      "CÔNG NGHỆ BƯU CHÍNH VIỄN THÔNG\n",
      "0.7381050912038988\n",
      "[[966, 348], [1536, 348], [1536, 450], [966, 450]]\n",
      "THẺ SINH VIÊN\n",
      "0.9995048205835562\n",
      "[[816, 492], [1046, 492], [1046, 548], [816, 548]]\n",
      "Họ và tên:\n",
      "0.767133867945294\n",
      "[[1071, 490], [1633, 490], [1633, 563], [1071, 563]]\n",
      "Phạm Lưu Thùy Dương\n",
      "0.9740674847196749\n",
      "[[812, 558], [1059, 558], [1059, 625], [812, 625]]\n",
      "Sinh ngày:\n",
      "0.9998196467257687\n",
      "[[1074, 562], [1330, 562], [1330, 616], [1074, 616]]\n",
      "24/02/2002\n",
      "0.8856273630527292\n",
      "[[812, 623], [1360, 623], [1360, 697], [812, 697]]\n",
      "Hộ khẩu TT: Quảng Ninh\n",
      "0.6465669985256566\n",
      "[[811, 701], [1253, 701], [1253, 763], [811, 763]]\n",
      "Lớp: D2OCQTTO2-B\n",
      "0.5501718141946229\n",
      "[[1305, 703], [1699, 703], [1699, 765], [1305, 765]]\n",
      "Hệ: Đai học chính quy\n",
      "0.5740743636718036\n",
      "[[811, 773], [1291, 773], [1291, 835], [811, 835]]\n",
      "Ngành: TT Đa phuong tiện\n",
      "0.6067682499999408\n",
      "[[1306, 770], [1552, 770], [1552, 824], [1306, 824]]\n",
      "Khóa: 2020\n",
      "0.910119352206586\n",
      "[[1580, 768], [1694, 768], [1694, 822], [1580, 822]]\n",
      "2024\n",
      "0.9999985694885254\n",
      "[[527, 859], [665, 859], [665, 903], [527, 903]]\n",
      "Mã SV\n",
      "0.9528861659186274\n",
      "[[435, 915], [773, 915], [773, 975], [435, 975]]\n",
      "B2ODCTTOO2\n",
      "0.7519454700391625\n"
     ]
    }
   ],
   "source": [
    "result_hog = reader.readtext(\"result/img/hog_result.png\")\n",
    "for line in result_hog:\n",
    "    for item in line:\n",
    "        print(item)"
   ]
  },
  {
   "cell_type": "code",
   "execution_count": 161,
   "metadata": {},
   "outputs": [
    {
     "name": "stdout",
     "output_type": "stream",
     "text": [
      "HỌC VIỆN\n",
      "PVT\n",
      "CÔNG NGHỆ BƯU CHÍNH VIỄN THÔNG\n",
      "THẺ SINH VIÊN\n",
      "Họ và tên:\n",
      "Phạm Lưu Thùy Dương\n",
      "Sinh ngày:\n",
      "24/02/2002\n",
      "Hộ khẩu TT: Quảng Ninh\n",
      "Lớp: D2OCQTTO2-B\n",
      "Hệ: Đai học chính quy\n",
      "Ngành: TT Đa phuong tiện\n",
      "Khóa: 2020\n",
      "2024\n",
      "Mã SV\n",
      "B2ODCTTOO2\n"
     ]
    }
   ],
   "source": [
    "# Print content \n",
    "for line in result_hog:\n",
    "        print(line[1])"
   ]
  }
 ],
 "metadata": {
  "kernelspec": {
   "display_name": "Python 3.10.7 64-bit",
   "language": "python",
   "name": "python3"
  },
  "language_info": {
   "codemirror_mode": {
    "name": "ipython",
    "version": 3
   },
   "file_extension": ".py",
   "mimetype": "text/x-python",
   "name": "python",
   "nbconvert_exporter": "python",
   "pygments_lexer": "ipython3",
   "version": "3.10.7"
  },
  "vscode": {
   "interpreter": {
    "hash": "0a41dfaff145a21bbb3d5d5820cf030fb978bbdacefd5c927a5926869d710782"
   }
  }
 },
 "nbformat": 4,
 "nbformat_minor": 2
}

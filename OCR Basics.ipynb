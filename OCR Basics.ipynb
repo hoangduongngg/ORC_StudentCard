{
 "cells": [
  {
   "cell_type": "markdown",
   "metadata": {},
   "source": [
    "## 0. Install and Import Dependencies"
   ]
  },
  {
   "cell_type": "code",
   "execution_count": 1,
   "metadata": {},
   "outputs": [
    {
     "name": "stderr",
     "output_type": "stream",
     "text": [
      "c:\\Users\\TGDD\\AppData\\Local\\Programs\\Python\\Python310\\lib\\site-packages\\tqdm\\auto.py:22: TqdmWarning: IProgress not found. Please update jupyter and ipywidgets. See https://ipywidgets.readthedocs.io/en/stable/user_install.html\n",
      "  from .autonotebook import tqdm as notebook_tqdm\n"
     ]
    }
   ],
   "source": [
    "import easyocr\n",
    "import cv2\n",
    "from matplotlib import pyplot as plt\n",
    "import numpy as np"
   ]
  },
  {
   "cell_type": "markdown",
   "metadata": {},
   "source": [
    "## 1. Read in images"
   ]
  },
  {
   "cell_type": "markdown",
   "metadata": {},
   "source": [
    "### 1.1 - Test Simple Card Student"
   ]
  },
  {
   "cell_type": "code",
   "execution_count": 2,
   "metadata": {},
   "outputs": [
    {
     "name": "stderr",
     "output_type": "stream",
     "text": [
      "CUDA not available - defaulting to CPU. Note: This module is much faster with a GPU.\n"
     ]
    }
   ],
   "source": [
    "# Read Content from PTIT Card\n",
    "reader = easyocr.Reader(['vi'])\n",
    "IMAGE_PATH = \"assets/img/studentCard.jpg\"\n",
    "result = reader.readtext(IMAGE_PATH)"
   ]
  },
  {
   "cell_type": "code",
   "execution_count": 3,
   "metadata": {},
   "outputs": [
    {
     "name": "stdout",
     "output_type": "stream",
     "text": [
      "[[1300, 219], [1964, 219], [1964, 400], [1300, 400]]\n",
      "HỌC VIỆN\n",
      "0.9224944939475592\n",
      "[[829, 371], [2430, 371], [2430, 518], [829, 518]]\n",
      "CÔNG NGHỆ BUU CHÍNH VIÉN THÔNG\n",
      "0.7091452203934928\n",
      "[[309, 385], [647, 385], [647, 617], [309, 617]]\n",
      "@\n",
      "0.684005048263149\n",
      "[[1105, 568], [2164, 568], [2164, 763], [1105, 763]]\n",
      "THẺ SINH VIÊN\n",
      "0.9909010353045314\n",
      "[[852, 850], [1270, 850], [1270, 955], [852, 955]]\n",
      "Họ và tên:\n",
      "0.6712307257324667\n",
      "[[1312, 821], [2295, 821], [2295, 967], [1312, 967]]\n",
      "Nguyễn Hoàng Dương\n",
      "0.7706882515668977\n",
      "[[853, 971], [1289, 971], [1289, 1081], [853, 1081]]\n",
      "Sinh ngày:\n",
      "0.9976713325751027\n",
      "[[1319, 953], [1780, 953], [1780, 1062], [1319, 1062]]\n",
      "21/02/2001\n",
      "0.999914990517229\n",
      "[[856, 1075], [1726, 1075], [1726, 1204], [856, 1204]]\n",
      "Hộ khẩu TT: Béc Ninh\n",
      "0.6989632401337255\n",
      "[[858, 1203], [1637, 1203], [1637, 1328], [858, 1328]]\n",
      "Lớp: DI9COCNO9-B\n",
      "0.5835098328828344\n",
      "[[1745, 1197], [2468, 1197], [2468, 1312], [1745, 1312]]\n",
      "Hệ: Đaihoc chinhquy\n",
      "0.4853644082754635\n",
      "[[857, 1328], [1409, 1328], [1409, 1457], [857, 1457]]\n",
      "Ngành: CNTT\n",
      "0.8106777682428457\n",
      "[[1745, 1310], [2474, 1310], [2474, 1421], [1745, 1421]]\n",
      "Khóa: 2019 - 2024\n",
      "0.9004820801686512\n",
      "[[377, 1497], [617, 1497], [617, 1581], [377, 1581]]\n",
      "Mã SV\n",
      "0.9976526095642094\n",
      "[[217, 1586], [804, 1586], [804, 1699], [217, 1699]]\n",
      "Bi9DCCN153\n",
      "0.4437347118619652\n"
     ]
    }
   ],
   "source": [
    "# Tọa độ, Nội dung, Xác suất\n",
    "for line in result:\n",
    "    for item in line:\n",
    "        print(item)"
   ]
  },
  {
   "cell_type": "code",
   "execution_count": 4,
   "metadata": {},
   "outputs": [
    {
     "name": "stdout",
     "output_type": "stream",
     "text": [
      "HỌC VIỆN\n",
      "CÔNG NGHỆ BUU CHÍNH VIÉN THÔNG\n",
      "@\n",
      "THẺ SINH VIÊN\n",
      "Họ và tên:\n",
      "Nguyễn Hoàng Dương\n",
      "Sinh ngày:\n",
      "21/02/2001\n",
      "Hộ khẩu TT: Béc Ninh\n",
      "Lớp: DI9COCNO9-B\n",
      "Hệ: Đaihoc chinhquy\n",
      "Ngành: CNTT\n",
      "Khóa: 2019 - 2024\n",
      "Mã SV\n",
      "Bi9DCCN153\n"
     ]
    }
   ],
   "source": [
    "# Print content \n",
    "for line in result:\n",
    "        print(line[1])"
   ]
  },
  {
   "cell_type": "markdown",
   "metadata": {},
   "source": [
    "Với ảnh trính diện, chưa qua tiền xử lý, cho độ chính xác tương đối ổn, ở mức trung bình khoảng 0.8"
   ]
  },
  {
   "cell_type": "markdown",
   "metadata": {},
   "source": [
    "### 1.2 - Try with small image"
   ]
  },
  {
   "cell_type": "code",
   "execution_count": 5,
   "metadata": {},
   "outputs": [],
   "source": [
    "#Try diff example\n",
    "IMAGE_PATH_SMALL = \"assets/img/studentCard_small.jpg\"\n",
    "result_small = reader.readtext(IMAGE_PATH_SMALL)"
   ]
  },
  {
   "cell_type": "code",
   "execution_count": 6,
   "metadata": {},
   "outputs": [
    {
     "name": "stdout",
     "output_type": "stream",
     "text": [
      "[[1203, 1086], [1498, 1086], [1498, 1165], [1203, 1165]]\n",
      "HQC VIỆN\n",
      "0.590854944314224\n",
      "[[878, 1160], [910, 1160], [910, 1200], [878, 1200]]\n",
      "1\n",
      "0.6551346673970784\n",
      "[[996, 1156], [1706, 1156], [1706, 1213], [996, 1213]]\n",
      "CONG NGHỆ BUU CHÍNH VIÉN THONG\n",
      "0.4948037341154508\n",
      "[[1113, 1233], [1584, 1233], [1584, 1320], [1113, 1320]]\n",
      "THẺ SINH VIÊN\n",
      "0.9912536957211014\n",
      "[[996, 1352], [1184, 1352], [1184, 1400], [996, 1400]]\n",
      "Ho và ten:\n",
      "0.6727752156500987\n",
      "[[1199, 1345], [1644, 1345], [1644, 1413], [1199, 1413]]\n",
      "Nguyen Hoang Dưong\n",
      "0.3194232091219707\n",
      "[[994, 1405], [1409, 1405], [1409, 1460], [994, 1460]]\n",
      "Sinh ngày:   21/02/2001\n",
      "0.4516163493575577\n",
      "[[994, 1458], [1384, 1458], [1384, 1510], [994, 1510]]\n",
      "Hộ khâu TT: Bfc Ninh\n",
      "0.3217322670032198\n",
      "[[992, 1518], [1342, 1518], [1342, 1570], [992, 1570]]\n",
      "Lớp: Di9COCNOO-0\n",
      "0.18995444899011643\n",
      "[[1387, 1519], [1725, 1519], [1725, 1582], [1387, 1582]]\n",
      "He: Dalhoc chinhqu\n",
      "0.46413045177884654\n",
      "[[992, 1572], [1237, 1572], [1237, 1626], [992, 1626]]\n",
      "Ngành: CNTT\n",
      "0.9067503661065791\n",
      "[[1388, 1578], [1600, 1578], [1600, 1626], [1388, 1626]]\n",
      "Khóa: 2019\n",
      "0.8850562600340631\n",
      "[[1599, 1597], [1621, 1597], [1621, 1617], [1599, 1617]]\n",
      "0\n",
      "0.10762883950619884\n",
      "[[1620, 1580], [1726, 1580], [1726, 1628], [1620, 1628]]\n",
      "2024\n",
      "0.9996328353881836\n",
      "[[773, 1637], [883, 1637], [883, 1677], [773, 1677]]\n",
      "Ma SV\n",
      "0.43029368749832747\n",
      "[[698, 1677], [1031, 1677], [1031, 1737], [698, 1737]]\n",
      "B19DCCN1S3|l\n",
      "0.09181653767586599\n",
      "[[794.8492070888625, 1143.095242533175], [887.3557156915032, 1156.0665927577677], [877.1507929111375, 1216.904757466825], [783.6442843084968, 1203.9334072422323]]\n",
      "PY\n",
      "0.6217101838214216\n"
     ]
    }
   ],
   "source": [
    "# Tọa độ, Nội dung, Xác suất\n",
    "for line in result_small:\n",
    "    for item in line:\n",
    "        print(item)"
   ]
  },
  {
   "cell_type": "markdown",
   "metadata": {},
   "source": [
    "Nhận xét: Với chất lượng ảnh thấp hơn & nhỏ hơn, độ chính xác giảm.\n",
    "Độ chính xác trung bình khoảng 0.5"
   ]
  },
  {
   "cell_type": "markdown",
   "metadata": {},
   "source": [
    "# 2. Image Processing"
   ]
  },
  {
   "cell_type": "markdown",
   "metadata": {},
   "source": [
    "### 2.1 - Cân bằng sáng"
   ]
  },
  {
   "cell_type": "markdown",
   "metadata": {},
   "source": [
    "### 2.2 - Sharpen Image - Làm nét ảnh"
   ]
  },
  {
   "cell_type": "code",
   "execution_count": 7,
   "metadata": {},
   "outputs": [],
   "source": [
    "img1 = cv2.imread('assets\\img\\studentCard.jpg', 0)"
   ]
  },
  {
   "cell_type": "code",
   "execution_count": 8,
   "metadata": {},
   "outputs": [
    {
     "data": {
      "text/plain": [
       "True"
      ]
     },
     "execution_count": 8,
     "metadata": {},
     "output_type": "execute_result"
    }
   ],
   "source": [
    "kernel = np.array([[-1, -1, -1], [-1, 9, -1], [-1, -1, -1]]) #bo loc\n",
    "sharpening = cv2.filter2D(img1, -1, kernel)\n",
    "img1_sharpened = 'result\\img\\studentCard(Sharpe).jpg'\n",
    "cv2.imwrite(img1_sharpened, sharpening)"
   ]
  },
  {
   "cell_type": "markdown",
   "metadata": {},
   "source": [
    "Đầu ra là ảnh đã qua làm nét. Thử nghiệm đọc ảnh lần nữa xem độ chính xác có cao hơn không?"
   ]
  },
  {
   "cell_type": "code",
   "execution_count": 9,
   "metadata": {},
   "outputs": [
    {
     "name": "stdout",
     "output_type": "stream",
     "text": [
      "[[1302, 231], [1959, 231], [1959, 401], [1302, 401]]\n",
      "HỌC VIỆN\n",
      "0.7114550259289927\n",
      "[[543, 403], [629, 403], [629, 515], [543, 515]]\n",
      "T\n",
      "0.6743417577080244\n",
      "[[827, 374], [2428, 374], [2428, 518], [827, 518]]\n",
      "CÔNG NGHỆ BUU CHÍNH VIÉN THONG\n",
      "0.3874409255657628\n",
      "[[318, 392], [574, 392], [574, 614], [318, 614]]\n",
      "@\n",
      "0.8282478047037536\n",
      "[[1104, 573], [2158, 573], [2158, 760], [1104, 760]]\n",
      "THẺ SINH VIÊN\n",
      "0.9979070251703916\n",
      "[[847, 847], [1271, 847], [1271, 955], [847, 955]]\n",
      "Họ và tên:\n",
      "0.90853721934339\n",
      "[[1310, 818], [2296, 818], [2296, 965], [1310, 965]]\n",
      "Nguyen Hoàng Dương\n",
      "0.7882327395302287\n",
      "[[851, 949], [1782, 949], [1782, 1085], [851, 1085]]\n",
      "Sính ngày:   21/02/2001\n",
      "0.7638619527954836\n",
      "[[856, 1080], [1726, 1080], [1726, 1202], [856, 1202]]\n",
      "Hộ khẩu TT: Bắc Ninb\n",
      "0.6621253467655511\n",
      "[[850, 1201], [1640, 1201], [1640, 1336], [850, 1336]]\n",
      "Lớp: D19CQCNO9-8\n",
      "0.4541636270747997\n",
      "[[1744, 1194], [2467, 1194], [2467, 1315], [1744, 1315]]\n",
      "Hệ: Đaihoc chinhqy\n",
      "0.8505417779962224\n",
      "[[856, 1328], [1411, 1328], [1411, 1457], [856, 1457]]\n",
      "Ngành: CNTT\n",
      "0.9015716403966418\n",
      "[[1744, 1308], [2475, 1308], [2475, 1421], [1744, 1421]]\n",
      "Khóa: 2019 - 2024\n",
      "0.7377601466958148\n",
      "[[377, 1495], [618, 1495], [618, 1582], [377, 1582]]\n",
      "Mã SV\n",
      "0.7358634463074738\n",
      "[[218, 1588], [802, 1588], [802, 1698], [218, 1698]]\n",
      "Bi9dcCN153\n",
      "0.25744660144044706\n"
     ]
    }
   ],
   "source": [
    "result_sharpen = reader.readtext(img1_sharpened)\n",
    "for line in result_sharpen:\n",
    "    for item in line:\n",
    "        print(item)"
   ]
  }
 ],
 "metadata": {
  "kernelspec": {
   "display_name": "Python 3.10.7 64-bit",
   "language": "python",
   "name": "python3"
  },
  "language_info": {
   "codemirror_mode": {
    "name": "ipython",
    "version": 3
   },
   "file_extension": ".py",
   "mimetype": "text/x-python",
   "name": "python",
   "nbconvert_exporter": "python",
   "pygments_lexer": "ipython3",
   "version": "3.10.7"
  },
  "vscode": {
   "interpreter": {
    "hash": "0a41dfaff145a21bbb3d5d5820cf030fb978bbdacefd5c927a5926869d710782"
   }
  }
 },
 "nbformat": 4,
 "nbformat_minor": 2
}
